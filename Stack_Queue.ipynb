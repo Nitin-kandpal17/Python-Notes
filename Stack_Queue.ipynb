{
  "cells": [
    {
      "cell_type": "markdown",
      "source": [
        "\n",
        "-----\n",
        "\n",
        "## Python Mastery: Demystifying Stacks and Queues\n",
        "\n",
        "Welcome to this comprehensive guide on two of the most fundamental and widely used data structures in computer science: **Stacks** and **Queues**. Understanding these structures is crucial for designing efficient algorithms and solving a variety of programming problems. We'll cover their core principles, common operations, real-world applications, and provide practical Python implementations that you can run directly in Google Colab.\n",
        "\n",
        "-----\n",
        "\n",
        "### Understanding Stacks: LIFO Principle\n",
        "\n",
        "**What is a Stack?**\n",
        "\n",
        "A **Stack** is a linear data structure that follows the **LIFO (Last In, First Out)** principle. Imagine a stack of plates: you can only add a new plate to the top, and you can only remove the topmost plate. The last plate you put on is the first one you take off.\n",
        "\n",
        "**Key Characteristics:**\n",
        "\n",
        "  * **LIFO (Last In, First Out):** The element inserted last is the first one to be removed.\n",
        "  * **Linear Structure:** Elements are arranged sequentially.\n",
        "  * **Restricted Access:** Operations are limited to one end, typically called the \"top\" of the stack.\n",
        "\n",
        "**Core Operations:**\n",
        "\n",
        "1.  **`push(item)`:** Adds an item to the top of the stack.\n",
        "2.  **`pop()`:** Removes and returns the item from the top of the stack. If the stack is empty, it typically raises an error.\n",
        "3.  **`peek()` (or `top()`):** Returns the item at the top of the stack without removing it.\n",
        "4.  **`is_empty()`:** Checks if the stack is empty.\n",
        "5.  **`size()`:** Returns the number of items in the stack.\n",
        "\n",
        "**Real-World Applications:**\n",
        "\n",
        "  * **Function Call Stack:** When you call functions in a program, they are pushed onto a call stack. When a function completes, it's popped off.\n",
        "  * **Undo/Redo Functionality:** In text editors or graphic design software.\n",
        "  * **Browser History:** Navigating back and forth through web pages.\n",
        "  * **Expression Evaluation:** Converting infix expressions to postfix and evaluating them.\n",
        "  * **Backtracking Algorithms:** Used in solving mazes, Sudoku, etc.\n",
        "\n",
        "-----\n",
        "\n",
        "### Python Implementation of a Stack\n",
        "\n",
        "In Python, you can easily implement a stack using a simple `list`. The `append()` method acts as `push()`, and `pop()` acts as `pop()`.\n",
        "\n",
        "#### 1\\. Using Python's `list`"
      ],
      "metadata": {
        "id": "3dlgJTV2uoAC"
      }
    },
    {
      "cell_type": "code",
      "source": [
        "print(\"--- Stack Implementation using Python's List ---\")\n",
        "\n",
        "stack_list = []\n",
        "\n",
        "# Push operation\n",
        "stack_list.append('A')\n",
        "stack_list.append('B')\n",
        "stack_list.append('C')\n",
        "print(\"Stack after pushes:\", stack_list)\n",
        "\n",
        "# Peek operation (accessing the last element)\n",
        "if stack_list:\n",
        "    print(\"Peek (top element):\", stack_list[-1])\n",
        "else:\n",
        "    print(\"Stack is empty, cannot peek.\")\n",
        "\n",
        "# Pop operation\n",
        "popped_item = stack_list.pop()\n",
        "print(\"Popped item:\", popped_item)\n",
        "print(\"Stack after first pop:\", stack_list)\n",
        "\n",
        "popped_item = stack_list.pop()\n",
        "print(\"Popped item:\", popped_item)\n",
        "print(\"Stack after second pop:\", stack_list)\n",
        "\n",
        "# Check if empty\n",
        "print(\"Is stack empty?\", not bool(stack_list)) # More explicit way than just not stack_list\n",
        "\n",
        "# Pop from an empty stack (will raise IndexError)\n",
        "try:\n",
        "    popped_item = stack_list.pop()\n",
        "    print(\"Popped item:\", popped_item)\n",
        "except IndexError:\n",
        "    print(\"Error: Cannot pop from an empty stack.\")\n",
        "\n",
        "print(\"Is stack empty?\", not bool(stack_list))"
      ],
      "outputs": [
        {
          "output_type": "stream",
          "name": "stdout",
          "text": [
            "--- Stack Implementation using Python's List ---\n",
            "Stack after pushes: ['A', 'B', 'C']\n",
            "Peek (top element): C\n",
            "Popped item: C\n",
            "Stack after first pop: ['A', 'B']\n",
            "Popped item: B\n",
            "Stack after second pop: ['A']\n",
            "Is stack empty? False\n",
            "Popped item: A\n",
            "Is stack empty? True\n"
          ]
        }
      ],
      "execution_count": null,
      "metadata": {
        "colab": {
          "base_uri": "https://localhost:8080/"
        },
        "id": "r2FLYyZruoAF",
        "outputId": "4d8efd67-fc6a-46db-a9b5-3737b8c6eeb0"
      }
    },
    {
      "cell_type": "markdown",
      "source": [
        "#### 2\\. Encapsulating in a Class\n",
        "\n",
        "For better organization and to enforce stack-like behavior, it's often best to encapsulate the stack operations within a class."
      ],
      "metadata": {
        "id": "hoIGvtwkuoAH"
      }
    },
    {
      "cell_type": "code",
      "source": [
        "print(\"\\n--- Stack Implementation using a Class ---\")\n",
        "\n",
        "class Stack:\n",
        "    def __init__(self):\n",
        "        self._items = [] # Using a list internally\n",
        "\n",
        "    def is_empty(self):\n",
        "        \"\"\"Checks if the stack is empty.\"\"\"\n",
        "        return not self._items # Returns True if list is empty, False otherwise\n",
        "\n",
        "    def push(self, item):\n",
        "        \"\"\"Adds an item to the top of the stack.\"\"\"\n",
        "        self._items.append(item)\n",
        "        print(f\"Pushed: {item}. Stack: {self._items}\")\n",
        "\n",
        "    def pop(self):\n",
        "        \"\"\"Removes and returns the item from the top of the stack.\n",
        "           Raises IndexError if the stack is empty.\n",
        "        \"\"\"\n",
        "        if self.is_empty():\n",
        "            raise IndexError(\"pop from empty stack\")\n",
        "        item = self._items.pop()\n",
        "        print(f\"Popped: {item}. Stack: {self._items}\")\n",
        "        return item\n",
        "\n",
        "    def peek(self):\n",
        "        \"\"\"Returns the item at the top of the stack without removing it.\n",
        "           Raises IndexError if the stack is empty.\n",
        "        \"\"\"\n",
        "        if self.is_empty():\n",
        "            raise IndexError(\"peek from empty stack\")\n",
        "        return self._items[-1]\n",
        "\n",
        "    def size(self):\n",
        "        \"\"\"Returns the number of items in the stack.\"\"\"\n",
        "        return len(self._items)\n",
        "\n",
        "    def __str__(self):\n",
        "        \"\"\"String representation of the stack.\"\"\"\n",
        "        return str(self._items)\n",
        "\n",
        "# Example Usage of Stack Class\n",
        "my_stack = Stack()\n",
        "print(f\"Is stack empty initially? {my_stack.is_empty()}\") # True\n",
        "\n",
        "my_stack.push(10)\n",
        "my_stack.push(20)\n",
        "my_stack.push(30)\n",
        "\n",
        "print(f\"Stack size: {my_stack.size()}\") # 3\n",
        "print(f\"Top element (peek): {my_stack.peek()}\") # 30\n",
        "\n",
        "first_pop = my_stack.pop() # 30\n",
        "second_pop = my_stack.pop() # 20\n",
        "\n",
        "print(f\"Is stack empty after pops? {my_stack.is_empty()}\") # False\n",
        "\n",
        "my_stack.push(40)\n",
        "print(f\"Current stack: {my_stack}\") # [10, 40]\n",
        "\n",
        "try:\n",
        "    my_stack.pop() # 40\n",
        "    my_stack.pop() # 10\n",
        "    my_stack.pop() # This will raise an IndexError\n",
        "except IndexError as e:\n",
        "    print(f\"Caught error: {e}\")\n",
        "\n",
        "print(f\"Final stack size: {my_stack.size()}\") # 0"
      ],
      "outputs": [
        {
          "output_type": "stream",
          "name": "stdout",
          "text": [
            "\n",
            "--- Stack Implementation using a Class ---\n",
            "Is stack empty initially? True\n",
            "Pushed: 10. Stack: [10]\n",
            "Pushed: 20. Stack: [10, 20]\n",
            "Pushed: 30. Stack: [10, 20, 30]\n",
            "Stack size: 3\n",
            "Top element (peek): 30\n",
            "Popped: 30. Stack: [10, 20]\n",
            "Popped: 20. Stack: [10]\n",
            "Is stack empty after pops? False\n",
            "Pushed: 40. Stack: [10, 40]\n",
            "Current stack: [10, 40]\n",
            "Popped: 40. Stack: [10]\n",
            "Popped: 10. Stack: []\n",
            "Caught error: pop from empty stack\n",
            "Final stack size: 0\n"
          ]
        }
      ],
      "execution_count": null,
      "metadata": {
        "id": "Cj382ljKuoAI",
        "colab": {
          "base_uri": "https://localhost:8080/"
        },
        "outputId": "b28eb496-468f-4b4e-84e4-99d14cb38030"
      }
    },
    {
      "cell_type": "markdown",
      "source": [
        "#### 3\\. Using `collections.deque` (Double-Ended Queue)\n",
        "\n",
        "For more efficient stack operations, especially when dealing with very large data sets, `collections.deque` is a great choice. `deque` (pronounced \"deck\") offers O(1) (constant time) complexity for appends and pops from both ends, which is faster than Python lists for operations at the beginning of the list. For a stack, we only use one end."
      ],
      "metadata": {
        "id": "zc8WFPQ5uoAJ"
      }
    },
    {
      "cell_type": "code",
      "source": [
        "print(\"\\n--- Stack Implementation using collections.deque ---\")\n",
        "\n",
        "from collections import deque\n",
        "\n",
        "stack_deque = deque()\n",
        "\n",
        "# Push operation (append to the right)\n",
        "stack_deque.append('X')\n",
        "stack_deque.append('Y')\n",
        "stack_deque.append('Z')\n",
        "print(\"Deque as stack after pushes:\", stack_deque)\n",
        "\n",
        "# Peek operation (accessing the rightmost element)\n",
        "if stack_deque:\n",
        "    print(\"Peek (top element):\", stack_deque[-1])\n",
        "else:\n",
        "    print(\"Deque is empty, cannot peek.\")\n",
        "\n",
        "# Pop operation (pop from the right)\n",
        "popped_item_deque = stack_deque.pop()\n",
        "print(\"Popped item:\", popped_item_deque)\n",
        "print(\"Deque as stack after pop:\", stack_deque)\n",
        "\n",
        "# Check if empty\n",
        "print(\"Is deque empty?\", not bool(stack_deque))\n",
        "\n",
        "# Pop from empty deque (will raise IndexError)\n",
        "try:\n",
        "    stack_deque.pop()\n",
        "    stack_deque.pop()\n",
        "    stack_deque.pop() # This will cause an error\n",
        "except IndexError:\n",
        "    print(\"Error: Cannot pop from an empty deque.\")"
      ],
      "outputs": [
        {
          "output_type": "stream",
          "name": "stdout",
          "text": [
            "\n",
            "--- Stack Implementation using collections.deque ---\n",
            "Deque as stack after pushes: deque(['X', 'Y', 'Z'])\n",
            "Peek (top element): Z\n",
            "Popped item: Z\n",
            "Deque as stack after pop: deque(['X', 'Y'])\n",
            "Is deque empty? False\n",
            "Error: Cannot pop from an empty deque.\n"
          ]
        }
      ],
      "execution_count": null,
      "metadata": {
        "id": "yLWYzzomuoAJ",
        "colab": {
          "base_uri": "https://localhost:8080/"
        },
        "outputId": "9b21335f-25b6-41e0-fb3e-6fa7994d073b"
      }
    },
    {
      "cell_type": "markdown",
      "source": [
        "-----\n",
        "\n",
        "### Understanding Queues: FIFO Principle\n",
        "\n",
        "**What is a Queue?**\n",
        "\n",
        "A **Queue** is a linear data structure that follows the **FIFO (First In, First Out)** principle. Imagine a line at a supermarket checkout: the first person to get in line is the first person to be served.\n",
        "\n",
        "**Key Characteristics:**\n",
        "\n",
        "  * **FIFO (First In, First Out):** The element inserted first is the first one to be removed.\n",
        "  * **Linear Structure:** Elements are arranged sequentially.\n",
        "  * **Restricted Access:** Elements are added at one end (the \"rear\" or \"tail\") and removed from the other end (the \"front\" or \"head\").\n",
        "\n",
        "**Core Operations:**\n",
        "\n",
        "1.  **`enqueue(item)` (or `add`):** Adds an item to the rear of the queue.\n",
        "2.  **`dequeue()` (or `remove`):** Removes and returns the item from the front of the queue. If the queue is empty, it typically raises an error.\n",
        "3.  **`front()` (or `peek`):** Returns the item at the front of the queue without removing it.\n",
        "4.  **`is_empty()`:** Checks if the queue is empty.\n",
        "5.  **`size()`:** Returns the number of items in the queue.\n",
        "\n",
        "**Real-World Applications:**\n",
        "\n",
        "  * **Printer Queues:** Documents wait in a queue to be printed.\n",
        "  * **CPU Scheduling:** Processes wait in a queue to be executed by the CPU.\n",
        "  * **Keyboard Buffers:** Characters typed by the user are stored in a queue.\n",
        "  * **BFS (Breadth-First Search) Algorithm:** Graph traversal algorithm.\n",
        "  * **Message Queues:** In distributed systems, messages are often passed through queues.\n",
        "\n",
        "-----\n",
        "\n",
        "### Python Implementation of a Queue\n",
        "\n",
        "Similar to stacks, Python's `list` can be used to implement a queue, but `collections.deque` is generally preferred for performance.\n",
        "\n",
        "#### 1\\. Using Python's `list` (Less Efficient for `dequeue`)\n",
        "\n",
        "Using `list.append()` for `enqueue` is efficient, but `list.pop(0)` for `dequeue` is **inefficient** for large lists because it requires shifting all subsequent elements."
      ],
      "metadata": {
        "id": "sJLWK2M5uoAK"
      }
    },
    {
      "cell_type": "code",
      "source": [
        "print(\"\\n--- Queue Implementation using Python's List (less efficient for dequeue) ---\")\n",
        "\n",
        "queue_list = []\n",
        "\n",
        "# Enqueue operation (append to the end)\n",
        "queue_list.append('P1')\n",
        "queue_list.append('P2')\n",
        "queue_list.append('P3')\n",
        "print(\"Queue after enqueues:\", queue_list)\n",
        "\n",
        "# Peek (front element)\n",
        "if queue_list:\n",
        "    print(\"Front (peek):\", queue_list[0])\n",
        "else:\n",
        "    print(\"Queue is empty, cannot peek.\")\n",
        "\n",
        "# Dequeue operation (pop from the beginning - O(n) complexity)\n",
        "dequeued_item = queue_list.pop(0) # This is slow for large lists\n",
        "print(\"Dequeued item:\", dequeued_item)\n",
        "print(\"Queue after first dequeue:\", queue_list)\n",
        "\n",
        "dequeued_item = queue_list.pop(0)\n",
        "print(\"Dequeued item:\", dequeued_item)\n",
        "print(\"Queue after second dequeue:\", queue_list)\n",
        "\n",
        "# Check if empty\n",
        "print(\"Is queue empty?\", not bool(queue_list))\n",
        "\n",
        "# Dequeue from an empty queue (will raise IndexError)\n",
        "try:\n",
        "    dequeued_item = queue_list.pop(0)\n",
        "    print(\"Dequeued item:\", dequeued_item)\n",
        "except IndexError:\n",
        "    print(\"Error: Cannot dequeue from an empty queue.\")"
      ],
      "outputs": [
        {
          "output_type": "stream",
          "name": "stdout",
          "text": [
            "\n",
            "--- Queue Implementation using Python's List (less efficient for dequeue) ---\n",
            "Queue after enqueues: ['P1', 'P2', 'P3']\n",
            "Front (peek): P1\n",
            "Dequeued item: P1\n",
            "Queue after first dequeue: ['P2', 'P3']\n",
            "Dequeued item: P2\n",
            "Queue after second dequeue: ['P3']\n",
            "Is queue empty? False\n",
            "Dequeued item: P3\n"
          ]
        }
      ],
      "execution_count": null,
      "metadata": {
        "id": "p1my_InLuoAL",
        "colab": {
          "base_uri": "https://localhost:8080/"
        },
        "outputId": "c6e43320-3676-4b18-a798-e2fa4473c79e"
      }
    },
    {
      "cell_type": "markdown",
      "source": [
        "#### 2\\. Encapsulating in a Class (using `list`)\n",
        "\n",
        "Again, encapsulating in a class provides a cleaner interface."
      ],
      "metadata": {
        "id": "6MQervbLuoAM"
      }
    },
    {
      "cell_type": "code",
      "source": [
        "print(\"\\n--- Queue Implementation using a Class (list-based) ---\")\n",
        "\n",
        "class Queue:\n",
        "    def __init__(self):\n",
        "        self._items = []\n",
        "\n",
        "    def is_empty(self):\n",
        "        \"\"\"Checks if the queue is empty.\"\"\"\n",
        "        return not self._items\n",
        "\n",
        "    def enqueue(self, item):\n",
        "        \"\"\"Adds an item to the rear of the queue.\"\"\"\n",
        "        self._items.append(item)\n",
        "        print(f\"Enqueued: {item}. Queue: {self._items}\")\n",
        "\n",
        "    def dequeue(self):\n",
        "        \"\"\"Removes and returns the item from the front of the queue.\n",
        "           Raises IndexError if the queue is empty.\n",
        "        \"\"\"\n",
        "        if self.is_empty():\n",
        "            raise IndexError(\"dequeue from empty queue\")\n",
        "        item = self._items.pop(0) # Inefficient for large queues\n",
        "        print(f\"Dequeued: {item}. Queue: {self._items}\")\n",
        "        return item\n",
        "\n",
        "    def front(self):\n",
        "        \"\"\"Returns the item at the front of the queue without removing it.\n",
        "           Raises IndexError if the queue is empty.\n",
        "        \"\"\"\n",
        "        if self.is_empty():\n",
        "            raise IndexError(\"front from empty queue\")\n",
        "        return self._items[0]\n",
        "\n",
        "    def size(self):\n",
        "        \"\"\"Returns the number of items in the queue.\"\"\"\n",
        "        return len(self._items)\n",
        "\n",
        "    def __str__(self):\n",
        "        \"\"\"String representation of the queue.\"\"\"\n",
        "        return str(self._items)\n",
        "\n",
        "# Example Usage of Queue Class\n",
        "my_queue = Queue()\n",
        "print(f\"Is queue empty initially? {my_queue.is_empty()}\") # True\n",
        "\n",
        "my_queue.enqueue(\"Task A\")\n",
        "my_queue.enqueue(\"Task B\")\n",
        "my_queue.enqueue(\"Task C\")\n",
        "\n",
        "print(f\"Queue size: {my_queue.size()}\") # 3\n",
        "print(f\"Front element (front): {my_queue.front()}\") # Task A\n",
        "\n",
        "first_deque = my_queue.dequeue() # Task A\n",
        "second_deque = my_queue.dequeue() # Task B\n",
        "\n",
        "print(f\"Is queue empty after dequeues? {my_queue.is_empty()}\") # False\n",
        "\n",
        "my_queue.enqueue(\"Task D\")\n",
        "print(f\"Current queue: {my_queue}\") # ['Task C', 'Task D']\n",
        "\n",
        "try:\n",
        "    my_queue.dequeue() # Task C\n",
        "    my_queue.dequeue() # Task D\n",
        "    my_queue.dequeue() # This will raise an IndexError\n",
        "except IndexError as e:\n",
        "    print(f\"Caught error: {e}\")\n",
        "\n",
        "print(f\"Final queue size: {my_queue.size()}\") # 0"
      ],
      "outputs": [
        {
          "output_type": "stream",
          "name": "stdout",
          "text": [
            "\n",
            "--- Queue Implementation using a Class (list-based) ---\n",
            "Is queue empty initially? True\n",
            "Enqueued: Task A. Queue: ['Task A']\n",
            "Enqueued: Task B. Queue: ['Task A', 'Task B']\n",
            "Enqueued: Task C. Queue: ['Task A', 'Task B', 'Task C']\n",
            "Queue size: 3\n",
            "Front element (front): Task A\n",
            "Dequeued: Task A. Queue: ['Task B', 'Task C']\n",
            "Dequeued: Task B. Queue: ['Task C']\n",
            "Is queue empty after dequeues? False\n",
            "Enqueued: Task D. Queue: ['Task C', 'Task D']\n",
            "Current queue: ['Task C', 'Task D']\n",
            "Dequeued: Task C. Queue: ['Task D']\n",
            "Dequeued: Task D. Queue: []\n",
            "Caught error: dequeue from empty queue\n",
            "Final queue size: 0\n"
          ]
        }
      ],
      "execution_count": null,
      "metadata": {
        "id": "kN3NhpF0uoAM",
        "colab": {
          "base_uri": "https://localhost:8080/"
        },
        "outputId": "fa97c5ea-da89-414a-d115-5672a78a664a"
      }
    },
    {
      "cell_type": "markdown",
      "source": [
        "#### 3\\. Using `collections.deque` (Efficient Queue Implementation)\n",
        "\n",
        "`collections.deque` is the **recommended** way to implement queues in Python because `append()` and `popleft()` operations are both O(1) (constant time)."
      ],
      "metadata": {
        "id": "Nvn9BtgXuoAN"
      }
    },
    {
      "cell_type": "code",
      "source": [
        "print(\"\\n--- Queue Implementation using collections.deque (Recommended) ---\")\n",
        "\n",
        "from collections import deque\n",
        "\n",
        "queue_deque = deque()\n",
        "\n",
        "# Enqueue operation (append to the right)\n",
        "queue_deque.append('Job 1')\n",
        "queue_deque.append('Job 2')\n",
        "queue_deque.append('Job 3')\n",
        "print(\"Deque as queue after enqueues:\", queue_deque)\n",
        "\n",
        "# Peek (front element)\n",
        "if queue_deque:\n",
        "    print(\"Front (peek):\", queue_deque[0])\n",
        "else:\n",
        "    print(\"Deque is empty, cannot peek.\")\n",
        "\n",
        "# Dequeue operation (pop from the left - O(1) complexity)\n",
        "dequeued_item_deque = queue_deque.popleft()\n",
        "print(\"Dequeued item:\", dequeued_item_deque)\n",
        "print(\"Deque as queue after first dequeue:\", queue_deque)\n",
        "\n",
        "# Check if empty\n",
        "print(\"Is deque empty?\", not bool(queue_deque))\n",
        "\n",
        "# Dequeue from empty deque (will raise IndexError)\n",
        "try:\n",
        "    queue_deque.popleft()\n",
        "    queue_deque.popleft()\n",
        "    queue_deque.popleft() # This will cause an error\n",
        "except IndexError:\n",
        "    print(\"Error: Cannot dequeue from an empty deque.\")"
      ],
      "outputs": [
        {
          "output_type": "stream",
          "name": "stdout",
          "text": [
            "\n",
            "--- Queue Implementation using collections.deque (Recommended) ---\n",
            "Deque as queue after enqueues: deque(['Job 1', 'Job 2', 'Job 3'])\n",
            "Front (peek): Job 1\n",
            "Dequeued item: Job 1\n",
            "Deque as queue after first dequeue: deque(['Job 2', 'Job 3'])\n",
            "Is deque empty? False\n",
            "Error: Cannot dequeue from an empty deque.\n"
          ]
        }
      ],
      "execution_count": null,
      "metadata": {
        "id": "L849rs9RuoAN",
        "colab": {
          "base_uri": "https://localhost:8080/"
        },
        "outputId": "cb343a4a-e12e-4a51-a395-e55958f974fc"
      }
    },
    {
      "cell_type": "markdown",
      "source": [
        "-----\n",
        "\n",
        "### Comparison: Stacks vs. Queues\n",
        "\n",
        "| Feature         | Stack                                | Queue                                      |\n",
        "| :-------------- | :----------------------------------- | :----------------------------------------- |\n",
        "| **Principle** | LIFO (Last In, First Out)            | FIFO (First In, First Out)                 |\n",
        "| **Primary Ops** | `push()`, `pop()`                    | `enqueue()`, `dequeue()`                   |\n",
        "| **Insertion End** | Top                                  | Rear/Tail                                  |\n",
        "| **Removal End** | Top                                  | Front/Head                                 |\n",
        "| **Analogy** | Stack of plates, browser history     | Line at a checkout, printer queue          |\n",
        "| **Python Impl.** | `list.append()`, `list.pop()`      | `collections.deque.append()`, `popleft()`  |\n",
        "\n",
        "-----\n",
        "\n",
        "### Conclusion\n",
        "\n",
        "Stacks and Queues are fundamental building blocks in computer science. Their distinct LIFO and FIFO behaviors make them suitable for a wide range of problems, from managing program execution to optimizing data processing. While Python lists can superficially mimic their behavior, `collections.deque` provides a more performant and idiomatic way to implement both stacks and queues due to its O(1) complexity for insertions and deletions at both ends.\n",
        "\n",
        "By mastering these simple yet powerful data structures, you're well on your way to tackling more complex algorithms and system designs\\!\n"
      ],
      "metadata": {
        "id": "5se9P0EruoAN"
      }
    }
  ],
  "metadata": {
    "colab": {
      "provenance": []
    },
    "kernelspec": {
      "display_name": "Python 3",
      "name": "python3"
    }
  },
  "nbformat": 4,
  "nbformat_minor": 0
}