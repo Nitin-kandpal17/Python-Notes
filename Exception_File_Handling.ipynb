{
  "cells": [
    {
      "cell_type": "markdown",
      "source": [
        "-----\n",
        "\n",
        "## Python Mastery: Demystifying Exceptions and File Handling\n",
        "\n",
        "Welcome to this in-depth guide on **exception handling** and **file handling** in Python\\! This comprehensive breakdown is designed to be your go-to resource for understanding and implementing robust error management and efficient file operations. We'll explore core concepts, common pitfalls, best practices, and provide plenty of code examples that you can run directly in Google Colab.\n",
        "\n",
        "-----\n",
        "\n",
        "### Understanding Exceptions: When Things Go Wrong (Gracefully)\n",
        "\n",
        "**What are Exceptions?**\n",
        "\n",
        "In programming, an **exception** is an event that disrupts the normal flow of a program's execution. Unlike syntax errors (which prevent your code from even running), exceptions occur during runtime when something unexpected happens. Think of it like hitting a speed bump on the road – your journey isn't over, but you need to react to avoid a crash.\n",
        "\n",
        "**Why Handle Exceptions?**\n",
        "\n",
        "Unhandled exceptions can lead to your program crashing, providing a poor user experience. By handling exceptions, you can:\n",
        "\n",
        "  * **Prevent crashes:** Keep your program running smoothly.\n",
        "  * **Provide meaningful feedback:** Inform users about what went wrong.\n",
        "  * **Recover from errors:** Attempt to fix the issue or gracefully exit.\n",
        "  * **Maintain program state:** Ensure data integrity even after an error.\n",
        "\n",
        "**Common Built-in Exceptions**\n",
        "\n",
        "Python comes with a rich hierarchy of built-in exceptions. Here are some you'll frequently encounter:\n",
        "\n",
        "  * **`SyntaxError`**: Occurs when Python's parser detects a syntax error (e.g., misspelled keyword, missing colon).\n",
        "  * **`TypeError`**: An operation is performed on an object of an inappropriate type (e.g., adding a string to an integer).\n",
        "  * **`NameError`**: A local or global name is not found (e.g., trying to use a variable before it's defined).\n",
        "  * **`IndexError`**: A sequence subscript (index) is out of range (e.g., accessing `my_list[5]` in a list of 3 items).\n",
        "  * **`KeyError`**: A dictionary key is not found (e.g., accessing `my_dict['non_existent_key']`).\n",
        "  * **`ValueError`**: A function receives an argument of the correct type but an inappropriate value (e.g., `int('hello')`).\n",
        "  * **`ZeroDivisionError`**: Division or modulo by zero.\n",
        "  * **`FileNotFoundError`**: Attempting to open a file that doesn't exist.\n",
        "  * **`IOError`**: General input/output operation failure.\n",
        "  * **`ImportError`**: A module cannot be found or imported.\n",
        "\n",
        "-----\n",
        "\n",
        "### The `try...except` Block: Your Error Management Toolkit\n",
        "\n",
        "The `try...except` block is the cornerstone of exception handling in Python. It allows you to \"try\" a block of code, and if an exception occurs, \"except\" it and execute a different block of code.\n",
        "\n",
        "**Basic Structure**"
      ],
      "metadata": {
        "id": "EJk_fTqXppuK"
      }
    },
    {
      "cell_type": "code",
      "source": [
        "try:\n",
        "    # Code that might raise an exception\n",
        "    result = 10 / 0 # This will raise a ZeroDivisionError\n",
        "except ZeroDivisionError:\n",
        "    # Code to execute if a ZeroDivisionError occurs\n",
        "    print(\"Oops! You tried to divide by zero.\")\n",
        "except Exception as e: # Catch any other exception\n",
        "    print(f\"An unexpected error occurred: {e}\")\n",
        "print(\"Program continues after the try-except block.\")"
      ],
      "outputs": [
        {
          "output_type": "stream",
          "name": "stdout",
          "text": [
            "Oops! You tried to divide by zero.\n",
            "Program continues after the try-except block.\n"
          ]
        }
      ],
      "execution_count": null,
      "metadata": {
        "id": "a7qmckbUppuQ",
        "colab": {
          "base_uri": "https://localhost:8080/"
        },
        "outputId": "c1a31746-5c86-42eb-cc84-b3671af0ccf1"
      }
    },
    {
      "cell_type": "markdown",
      "source": [
        "**Handling Specific Exceptions**\n",
        "\n",
        "It's best practice to catch specific exceptions rather than a generic `Exception`. This makes your code more robust and easier to debug."
      ],
      "metadata": {
        "id": "ImhtBStcppuR"
      }
    },
    {
      "cell_type": "code",
      "source": [
        "def safe_divide(numerator, denominator):\n",
        "    try:\n",
        "        result = numerator / denominator\n",
        "        print(f\"Result: {result}\")\n",
        "    except ZeroDivisionError:\n",
        "        print(\"Error: Cannot divide by zero!\")\n",
        "    except TypeError:\n",
        "        print(\"Error: Both numerator and denominator must be numbers.\")\n",
        "    except Exception as e: # A catch-all for any other unexpected errors\n",
        "        print(f\"An unexpected error occurred: {e}\")\n",
        "\n",
        "safe_divide(10, 2)\n",
        "safe_divide(10, 0)\n",
        "safe_divide(\"abc\", 5)"
      ],
      "outputs": [
        {
          "output_type": "stream",
          "name": "stdout",
          "text": [
            "Result: 5.0\n",
            "Error: Cannot divide by zero!\n",
            "Error: Both numerator and denominator must be numbers.\n"
          ]
        }
      ],
      "execution_count": null,
      "metadata": {
        "id": "kwexzc19ppuS",
        "colab": {
          "base_uri": "https://localhost:8080/"
        },
        "outputId": "43f709a1-7529-4b90-fe28-06c39bcd27b2"
      }
    },
    {
      "cell_type": "markdown",
      "source": [
        "**The `else` Clause**\n",
        "\n",
        "The `else` block executes *only if no exception occurs* in the `try` block."
      ],
      "metadata": {
        "id": "rwH27F4nppuS"
      }
    },
    {
      "cell_type": "code",
      "source": [
        "def get_user_age():\n",
        "    try:\n",
        "        age_str = input(\"Enter your age: \")\n",
        "        age = int(age_str)\n",
        "    except ValueError:\n",
        "        print(\"That's not a valid age. Please enter a number.\")\n",
        "    else:\n",
        "        print(f\"Your age is: {age}\")\n",
        "        if age < 0:\n",
        "            print(\"Age cannot be negative.\")\n",
        "        elif age > 120:\n",
        "            print(\"Are you sure you're that old?\")\n",
        "\n",
        "get_user_age()\n",
        "get_user_age()"
      ],
      "outputs": [
        {
          "output_type": "stream",
          "name": "stdout",
          "text": [
            "Enter your age: 'hi'\n",
            "That's not a valid age. Please enter a number.\n",
            "Enter your age: -13\n",
            "Your age is: -13\n",
            "Age cannot be negative.\n"
          ]
        }
      ],
      "execution_count": null,
      "metadata": {
        "id": "2_uPRp7pppuS",
        "colab": {
          "base_uri": "https://localhost:8080/"
        },
        "outputId": "05ef57ea-6e97-4ddb-ab63-4ff01d023079"
      }
    },
    {
      "cell_type": "markdown",
      "source": [
        "**The `finally` Clause**\n",
        "\n",
        "The `finally` block *always executes*, regardless of whether an exception occurred or not. It's perfect for cleanup operations, like closing files or releasing resources."
      ],
      "metadata": {
        "id": "rPkrDGghppuT"
      }
    },
    {
      "cell_type": "code",
      "source": [
        "def perform_risky_operation():\n",
        "    file = None\n",
        "    try:\n",
        "        file = open(\"my_data.txt\", \"w+\") # Try to open a file\n",
        "        content = file.read()\n",
        "        print(\"File content read successfully.\")\n",
        "        # Simulating another error\n",
        "        result = 10 / 0\n",
        "    except FileNotFoundError:\n",
        "        print(\"Error: my_data.txt not found.\")\n",
        "    except ZeroDivisionError:\n",
        "        print(\"Error: Division by zero occurred in the operation.\")\n",
        "    finally:\n",
        "        if file: # Make sure file is not None before trying to close\n",
        "            file.close()\n",
        "            print(\"File closed in finally block.\")\n",
        "        print(\"Operation attempt finished.\")\n",
        "\n",
        "perform_risky_operation()"
      ],
      "outputs": [
        {
          "output_type": "stream",
          "name": "stdout",
          "text": [
            "File content read successfully.\n",
            "Error: Division by zero occurred in the operation.\n",
            "File closed in finally block.\n",
            "Operation attempt finished.\n"
          ]
        }
      ],
      "execution_count": null,
      "metadata": {
        "id": "b_WabD3SppuT",
        "colab": {
          "base_uri": "https://localhost:8080/"
        },
        "outputId": "9850a48d-cdc4-4202-eab2-c1fe4f4bc12f"
      }
    },
    {
      "cell_type": "markdown",
      "source": [
        "-----\n",
        "\n",
        "### Raising Exceptions: Taking Control\n",
        "\n",
        "Sometimes, you might want to force an exception to occur if a certain condition isn't met. You can do this using the `raise` keyword.\n",
        "\n",
        "**Basic `raise`**"
      ],
      "metadata": {
        "id": "HGx-U9WpppuU"
      }
    },
    {
      "cell_type": "code",
      "source": [
        "def check_positive(number):\n",
        "    if number < 0:\n",
        "        raise ValueError(\"Number must be positive!\")\n",
        "    print(f\"Number is: {number}\")\n",
        "\n",
        "try:\n",
        "    check_positive(5)\n",
        "    check_positive(-3)\n",
        "except ValueError as e:\n",
        "    print(f\"Caught an error: {e}\")"
      ],
      "outputs": [
        {
          "output_type": "stream",
          "name": "stdout",
          "text": [
            "Number is: 5\n",
            "Caught an error: Number must be positive!\n"
          ]
        }
      ],
      "execution_count": null,
      "metadata": {
        "id": "n7jYuyYwppuU",
        "colab": {
          "base_uri": "https://localhost:8080/"
        },
        "outputId": "3f478417-aff2-462f-87e8-60b17cb1debe"
      }
    },
    {
      "cell_type": "markdown",
      "source": [
        "**Custom Exceptions**\n",
        "\n",
        "For more specific error scenarios, you can define your own custom exceptions by inheriting from the built-in `Exception` class."
      ],
      "metadata": {
        "id": "_ANyGLo9ppuU"
      }
    },
    {
      "cell_type": "code",
      "source": [
        "class InsufficientFundsError(Exception):\n",
        "    \"\"\"Custom exception for when an account has insufficient funds.\"\"\"\n",
        "    def __init__(self, message=\"Insufficient funds for this transaction.\"):\n",
        "        self.message = message\n",
        "        super().__init__(self.message)\n",
        "\n",
        "def withdraw_money(account_balance, amount_to_withdraw):\n",
        "    if amount_to_withdraw > account_balance:\n",
        "        raise InsufficientFundsError(f\"Attempted to withdraw ${amount_to_withdraw}, but only ${account_balance} available.\")\n",
        "    else:\n",
        "        new_balance = account_balance - amount_to_withdraw\n",
        "        print(f\"Successfully withdrew ${amount_to_withdraw}. New balance: ${new_balance}\")\n",
        "        return new_balance\n",
        "\n",
        "# Test cases\n",
        "try:\n",
        "    withdraw_money(500, 200)\n",
        "    withdraw_money(100, 150) # This will raise InsufficientFundsError\n",
        "except InsufficientFundsError as e:\n",
        "    print(f\"Transaction failed: {e}\")"
      ],
      "outputs": [],
      "execution_count": null,
      "metadata": {
        "id": "_NM11eKQppuU"
      }
    },
    {
      "cell_type": "markdown",
      "source": [
        "-----\n",
        "\n",
        "### File Handling: Interacting with Your Data\n",
        "\n",
        "**What is File Handling?**\n",
        "\n",
        "File handling is the process of interacting with files stored on your computer's storage. This includes creating, reading, writing, and appending data to files.\n",
        "\n",
        "**Opening Files: The `open()` Function**\n",
        "\n",
        "The `open()` function is your gateway to file operations. It takes the filename and a **mode** as arguments."
      ],
      "metadata": {
        "id": "gkN01nhwppuV"
      }
    },
    {
      "cell_type": "code",
      "source": [
        "# Syntax: open(filename, mode)"
      ],
      "outputs": [],
      "execution_count": null,
      "metadata": {
        "id": "LEgHzrMdppuV"
      }
    },
    {
      "cell_type": "markdown",
      "source": [
        "**Common File Modes:**\n",
        "\n",
        "| Mode | Description                                                                                                                                              |\n",
        "| :--- | :------------------------------------------------------------------------------------------------------------------------------------------------------- |\n",
        "| `'r'`  | **Read (default)**: Opens for reading. Raises `FileNotFoundError` if the file doesn't exist.                                                               |\n",
        "| `'w'`  | **Write**: Opens for writing. **Creates the file if it doesn't exist, otherwise truncates (empties) the file.** |\n",
        "| `'a'`  | **Append**: Opens for writing. Creates the file if it doesn't exist. If the file exists, new data is written to the end of the file.                   |\n",
        "| `'x'`  | **Exclusive Creation**: Creates a new file and opens it for writing. Raises `FileExistsError` if the file already exists.                               |\n",
        "| `'b'`  | **Binary Mode**: Used with other modes (e.g., `'rb'`, `'wb'`) for handling non-text files like images or executables.                                   |\n",
        "| `'t'`  | **Text Mode (default)**: Used with other modes (e.g., `'rt'`, `'wt'`) for handling text files.                                                          |\n",
        "| `'+'`  | **Update Mode**: Used with other modes (e.g., `'r+'`, `'w+'`, `'a+'`) to allow both reading and writing. For `'r+'`, the file must exist.               |\n",
        "\n",
        "**Example: Basic File Operations**\n",
        "\n",
        "Let's create a file first:"
      ],
      "metadata": {
        "id": "fUnbVEkxppuV"
      }
    },
    {
      "cell_type": "code",
      "source": [
        "# Create a dummy file for demonstration\n",
        "with open(\"my_text_file.txt\", \"w\") as f:\n",
        "    f.write(\"Hello, Python!\\n\")\n",
        "    f.write(\"This is a test line.\\n\")\n",
        "    f.write(\"Learning file handling is fun.\")\n",
        "print(\"Created 'my_text_file.txt'\")"
      ],
      "outputs": [
        {
          "output_type": "stream",
          "name": "stdout",
          "text": [
            "Created 'my_text_file.txt'\n"
          ]
        }
      ],
      "execution_count": null,
      "metadata": {
        "id": "o0RUzXicppuV",
        "colab": {
          "base_uri": "https://localhost:8080/"
        },
        "outputId": "874f72e7-b6c9-482f-e3db-add7e113b04f"
      }
    },
    {
      "cell_type": "markdown",
      "source": [
        "-----\n",
        "\n",
        "### Reading from Files\n",
        "\n",
        "Once a file is open in read mode, you can use various methods to get its content.\n",
        "\n",
        "**1. `read()`: Read Entire File**\n",
        "\n",
        "Reads the entire content of the file as a single string."
      ],
      "metadata": {
        "id": "SqWvBdTBppuV"
      }
    },
    {
      "cell_type": "code",
      "source": [
        "try:\n",
        "    with open(\"my_text_file.txt\", \"r\") as file:\n",
        "        content = file.read()\n",
        "        print(\"\\n--- Content using read() ---\")\n",
        "        print(content)\n",
        "except FileNotFoundError:\n",
        "    print(\"Error: my_text_file.txt not found.\")"
      ],
      "outputs": [
        {
          "output_type": "stream",
          "name": "stdout",
          "text": [
            "\n",
            "--- Content using read() ---\n",
            "Hello, Python!\n",
            "This is a test line.\n",
            "Learning file handling is fun.\n"
          ]
        }
      ],
      "execution_count": null,
      "metadata": {
        "id": "Ej68nsRZppuV",
        "colab": {
          "base_uri": "https://localhost:8080/"
        },
        "outputId": "ed8e3274-0481-4a17-8c46-1d42e18c29d5"
      }
    },
    {
      "cell_type": "markdown",
      "source": [
        "**2. `readline()`: Read One Line at a Time**\n",
        "\n",
        "Reads a single line from the file, including the newline character (`\\n`)."
      ],
      "metadata": {
        "id": "wd38F8xEppuW"
      }
    },
    {
      "cell_type": "code",
      "source": [
        "try:\n",
        "    with open(\"my_text_file.txt\", \"r\") as file:\n",
        "        print(\"\\n--- Content using readline() ---\")\n",
        "        line1 = file.readline()\n",
        "        line2 = file.readline()\n",
        "        print(f\"Line 1: {line1.strip()}\") # .strip() removes whitespace, including \\n\n",
        "        print(f\"Line 2: {line2.strip()}\")\n",
        "except FileNotFoundError:\n",
        "    print(\"Error: my_text_file.txt not found.\")"
      ],
      "outputs": [
        {
          "output_type": "stream",
          "name": "stdout",
          "text": [
            "\n",
            "--- Content using readline() ---\n",
            "Line 1: Hello, Python!\n",
            "Line 2: This is a test line.\n"
          ]
        }
      ],
      "execution_count": null,
      "metadata": {
        "id": "G_ftawbVppuW",
        "colab": {
          "base_uri": "https://localhost:8080/"
        },
        "outputId": "ce7718db-a1dc-404b-eb83-24824dcec6d0"
      }
    },
    {
      "cell_type": "markdown",
      "source": [
        "**3. `readlines()`: Read All Lines into a List**\n",
        "\n",
        "Reads all lines from the file and returns them as a list of strings, where each string is a line."
      ],
      "metadata": {
        "id": "UPgEeSL4ppuW"
      }
    },
    {
      "cell_type": "code",
      "source": [
        "try:\n",
        "    with open(\"my_text_file.txt\", \"r\") as file:\n",
        "        lines = file.readlines()\n",
        "        print(\"\\n--- Content using readlines() ---\")\n",
        "        for i, line in enumerate(lines):\n",
        "            print(f\"Line {i+1}: {line.strip()}\")\n",
        "except FileNotFoundError:\n",
        "    print(\"Error: my_text_file.txt not found.\")"
      ],
      "outputs": [
        {
          "output_type": "stream",
          "name": "stdout",
          "text": [
            "\n",
            "--- Content using readlines() ---\n",
            "Line 1: Hello, Python!\n",
            "Line 2: This is a test line.\n",
            "Line 3: Learning file handling is fun.\n"
          ]
        }
      ],
      "execution_count": null,
      "metadata": {
        "id": "DXqPJ_9fppuW",
        "colab": {
          "base_uri": "https://localhost:8080/"
        },
        "outputId": "a2fb868c-9774-4c71-ba59-61e4b84dcd8c"
      }
    },
    {
      "cell_type": "markdown",
      "source": [
        "**4. Iterating Over File Objects (Most Pythonic Way)**\n",
        "\n",
        "You can directly iterate over a file object, which reads lines efficiently without loading the entire file into memory at once."
      ],
      "metadata": {
        "id": "6Bn1xYUFppuW"
      }
    },
    {
      "cell_type": "code",
      "source": [
        "try:\n",
        "    with open(\"my_text_file.txt\", \"r\") as file:\n",
        "        print(\"\\n--- Content by iterating over file object ---\")\n",
        "        for line_num, line in enumerate(file):\n",
        "            print(f\"Line {line_num+1}: {line.strip()}\")\n",
        "except FileNotFoundError:\n",
        "    print(\"Error: my_text_file.txt not found.\")"
      ],
      "outputs": [
        {
          "output_type": "stream",
          "name": "stdout",
          "text": [
            "\n",
            "--- Content by iterating over file object ---\n",
            "Line 1: Hello, Python!\n",
            "Line 2: This is a test line.\n",
            "Line 3: Learning file handling is fun.\n"
          ]
        }
      ],
      "execution_count": null,
      "metadata": {
        "id": "UySuzKKBppuW",
        "colab": {
          "base_uri": "https://localhost:8080/"
        },
        "outputId": "817654c5-dc00-4b07-e643-5492cd3a850f"
      }
    },
    {
      "cell_type": "markdown",
      "source": [
        "-----\n",
        "\n",
        "### Writing to Files\n",
        "\n",
        "**1. `write()`: Write a String**\n",
        "\n",
        "Writes a string to the file. It does not automatically add a newline character."
      ],
      "metadata": {
        "id": "csh2A04CppuW"
      }
    },
    {
      "cell_type": "code",
      "source": [
        "def write_to_file(filename, content):\n",
        "    try:\n",
        "        with open(filename, \"w\") as file: # 'w' mode will overwrite existing content\n",
        "            file.write(content)\n",
        "        print(f\"\\nSuccessfully wrote to '{filename}' (overwritten existing content).\")\n",
        "    except IOError as e:\n",
        "        print(f\"Error writing to file: {e}\")\n",
        "\n",
        "write_to_file(\"output.txt\", \"This is the first line.\\n\")\n",
        "write_to_file(\"output.txt\", \"This is the second line, overwriting the first one.\") # Overwrites previous content"
      ],
      "outputs": [
        {
          "output_type": "stream",
          "name": "stdout",
          "text": [
            "\n",
            "Successfully wrote to 'output.txt' (overwritten existing content).\n",
            "\n",
            "Successfully wrote to 'output.txt' (overwritten existing content).\n"
          ]
        }
      ],
      "execution_count": null,
      "metadata": {
        "id": "dNzi1W-fppuW",
        "colab": {
          "base_uri": "https://localhost:8080/"
        },
        "outputId": "4ea84154-81d3-41e7-c244-36b08bd120c5"
      }
    },
    {
      "cell_type": "markdown",
      "source": [
        "**2. `writelines()`: Write a List of Strings**\n",
        "\n",
        "Writes a list of strings to the file. It also does not add newline characters automatically, so you must include them in your strings if needed."
      ],
      "metadata": {
        "id": "6ciukq7bppuX"
      }
    },
    {
      "cell_type": "code",
      "source": [
        "def write_lines_to_file(filename, lines_list):\n",
        "    try:\n",
        "        with open(filename, \"w\") as file:\n",
        "            file.writelines(lines_list) # Each item in list should have a newline if desired\n",
        "        print(f\"\\nSuccessfully wrote multiple lines to '{filename}'.\")\n",
        "    except IOError as e:\n",
        "        print(f\"Error writing lines to file: {e}\")\n",
        "\n",
        "my_lines = [\"Line 1 from list\\n\", \"Line 2 from list\\n\", \"Line 3 from list\\n\"]\n",
        "write_lines_to_file(\"lines_output.txt\", my_lines)"
      ],
      "outputs": [
        {
          "output_type": "stream",
          "name": "stdout",
          "text": [
            "\n",
            "Successfully wrote multiple lines to 'lines_output.txt'.\n"
          ]
        }
      ],
      "execution_count": null,
      "metadata": {
        "id": "6R_X--7QppuX",
        "colab": {
          "base_uri": "https://localhost:8080/"
        },
        "outputId": "46b15069-3762-47ca-e57c-f2d7c756a563"
      }
    },
    {
      "cell_type": "markdown",
      "source": [
        "-----\n",
        "\n",
        "### Appending to Files\n",
        "\n",
        "Use the `'a'` mode to add content to the end of an existing file without overwriting."
      ],
      "metadata": {
        "id": "jtkn3GzfppuX"
      }
    },
    {
      "cell_type": "code",
      "source": [
        "def append_to_file(filename, content):\n",
        "    try:\n",
        "        with open(filename, \"a\") as file:\n",
        "            file.write(content)\n",
        "        print(f\"\\nSuccessfully appended to '{filename}'.\")\n",
        "    except IOError as e:\n",
        "        print(f\"Error appending to file: {e}\")\n",
        "\n",
        "append_to_file(\"lines_output.txt\", \"This is a new line appended.\\n\")\n",
        "append_to_file(\"lines_output.txt\", \"Another line appended.\\n\")\n",
        "\n",
        "# Verify content\n",
        "with open(\"lines_output.txt\", \"r\") as f:\n",
        "    print(\"\\n--- Content after appending ---\")\n",
        "    print(f.read())"
      ],
      "outputs": [
        {
          "output_type": "stream",
          "name": "stdout",
          "text": [
            "\n",
            "Successfully appended to 'lines_output.txt'.\n",
            "\n",
            "Successfully appended to 'lines_output.txt'.\n",
            "\n",
            "--- Content after appending ---\n",
            "Line 1 from list\n",
            "Line 2 from list\n",
            "Line 3 from list\n",
            "This is a new line appended.\n",
            "Another line appended.\n",
            "\n"
          ]
        }
      ],
      "execution_count": null,
      "metadata": {
        "id": "BHe_B9wappuX",
        "colab": {
          "base_uri": "https://localhost:8080/"
        },
        "outputId": "41732a43-d573-4e3f-a9d5-336c4500bd56"
      }
    },
    {
      "cell_type": "markdown",
      "source": [
        "-----\n",
        "\n",
        "### Best Practice: The `with` Statement for File Handling\n",
        "\n",
        "The `with` statement is highly recommended for file operations. It ensures that the file is **automatically closed** even if errors occur, preventing resource leaks. This is often referred to as the \"context manager\" protocol."
      ],
      "metadata": {
        "id": "1T8NsfJ_ppuX"
      }
    },
    {
      "cell_type": "code",
      "source": [
        "# Without 'with' (requires explicit close())\n",
        "file = None\n",
        "try:\n",
        "    file = open(\"data.csv\", \"r\")\n",
        "    # ... read/write operations ...\n",
        "except FileNotFoundError:\n",
        "    print(\"File not found!\")\n",
        "finally:\n",
        "    if file: # Check if file was actually opened\n",
        "        file.close()\n",
        "        print(\"File closed (explicitly).\")\n",
        "\n",
        "# With 'with' (preferred)\n",
        "try:\n",
        "    with open(\"data.csv\", \"r\") as file:\n",
        "        # ... read/write operations ...\n",
        "        print(\"File operations inside 'with' block.\")\n",
        "    print(\"File automatically closed after 'with' block.\")\n",
        "except FileNotFoundError:\n",
        "    print(\"File not found using 'with' statement.\")"
      ],
      "outputs": [
        {
          "output_type": "stream",
          "name": "stdout",
          "text": [
            "File not found!\n",
            "File not found using 'with' statement.\n"
          ]
        }
      ],
      "execution_count": null,
      "metadata": {
        "id": "gehRQgJrppuX",
        "colab": {
          "base_uri": "https://localhost:8080/"
        },
        "outputId": "ae41bf0e-3504-451d-e285-9161eb73673a"
      }
    },
    {
      "cell_type": "markdown",
      "source": [
        "-----\n",
        "\n",
        "### Handling File-Specific Exceptions\n",
        "\n",
        "Just like general code, file operations can raise exceptions. Always wrap your file handling logic in `try...except` blocks.\n",
        "\n",
        "  * **`FileNotFoundError`**: When you try to open a file that doesn't exist (in `'r'`, `'r+'`, or `'a+'` modes, or when attempting to read/write to a non-existent directory).\n",
        "  * **`IOError`**: A more general I/O error, which can cover various issues like permission denied, disk full, or corrupted file. `FileNotFoundError` is a subclass of `OSError`, which is a subclass of `IOError` in Python 2, but `FileNotFoundError` is now preferred.\n",
        "  * **`PermissionError`**: When you don't have the necessary permissions to access a file or directory.\n",
        "  * **`IsADirectoryError`**: When you try to open a directory as if it were a file.\n",
        "\n",
        "<!-- end list -->"
      ],
      "metadata": {
        "id": "h1u2Qx87ppuX"
      }
    },
    {
      "cell_type": "code",
      "source": [
        "def robust_file_reader(filename):\n",
        "    try:\n",
        "        with open(filename, 'r') as file:\n",
        "            content = file.read()\n",
        "            print(f\"\\n--- Content of '{filename}' ---\")\n",
        "            print(content)\n",
        "    except FileNotFoundError:\n",
        "        print(f\"Error: The file '{filename}' was not found.\")\n",
        "    except PermissionError:\n",
        "        print(f\"Error: You do not have permission to access '{filename}'.\")\n",
        "    except IsADirectoryError:\n",
        "        print(f\"Error: '{filename}' is a directory, not a file.\")\n",
        "    except IOError as e:\n",
        "        print(f\"An I/O error occurred while reading '{filename}': {e}\")\n",
        "    except Exception as e:\n",
        "        print(f\"An unexpected error occurred: {e}\")\n",
        "\n",
        "# Test cases\n",
        "robust_file_reader(\"non_existent_file.txt\")\n",
        "# To test PermissionError, you might need to create a file and change its permissions manually (OS dependent)\n",
        "# Example: robust_file_reader(\"/root/restricted_file.txt\") on Linux\n",
        "# To test IsADirectoryError, create a directory and try to read it\n",
        "# import os\n",
        "# os.mkdir(\"my_directory_test\")\n",
        "# robust_file_reader(\"my_directory_test\")"
      ],
      "outputs": [],
      "execution_count": null,
      "metadata": {
        "id": "0i6z1TdeppuX"
      }
    },
    {
      "cell_type": "markdown",
      "source": [
        "-----\n",
        "\n",
        "### Conclusion\n",
        "\n",
        "Mastering exception and file handling is crucial for writing reliable, user-friendly, and maintainable Python programs. By understanding how to gracefully handle errors and efficiently manage files, you'll significantly improve the quality and robustness of your code. Always remember to be specific with your exception handling, use the `with` statement for files, and provide helpful feedback to your users.\n"
      ],
      "metadata": {
        "id": "XIXnA1VMppuY"
      }
    }
  ],
  "metadata": {
    "colab": {
      "provenance": []
    },
    "kernelspec": {
      "display_name": "Python 3",
      "name": "python3"
    }
  },
  "nbformat": 4,
  "nbformat_minor": 0
}