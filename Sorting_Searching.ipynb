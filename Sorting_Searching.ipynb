{
  "cells": [
    {
      "cell_type": "markdown",
      "source": [
        "\n",
        "---\n",
        "\n",
        "## Python Mastery: Sorting and Searching Algorithms\n",
        "\n",
        "Welcome to this comprehensive guide on two pillars of computer science: **Sorting** and **Searching** algorithms. Understanding these algorithms is crucial for writing efficient code and solving a vast array of programming problems. We'll explore their core principles, time and space complexities, and provide practical Python implementations that you can run directly in Google Colab.\n",
        "\n",
        "---\n",
        "\n",
        "### Understanding Sorting Algorithms: Arranging Data\n",
        "\n",
        "**What is Sorting?**\n",
        "\n",
        "Sorting is the process of arranging data in a specific order (e.g., numerical, alphabetical, ascending, descending). The goal is to make data retrieval and processing more efficient.\n",
        "\n",
        "**Why is Sorting Important?**\n",
        "\n",
        "* **Faster Searching:** Sorted data allows for much faster search algorithms (like Binary Search).\n",
        "* **Easier Data Analysis:** Data is often easier to analyze, compare, and report when sorted.\n",
        "* **Foundation for Other Algorithms:** Many advanced algorithms rely on data being sorted as a prerequisite.\n",
        "\n",
        "**Key Concepts:**\n",
        "\n",
        "* **In-Place Sorting:** Algorithms that sort data within the original array/list, using minimal extra space.\n",
        "* **Stable Sorting:** Algorithms that preserve the relative order of equal elements. If two elements are equal, their order in the sorted output is the same as in the original input.\n",
        "* **Time Complexity:** Measures how the running time of an algorithm grows with the input size (`n`).\n",
        "* **Space Complexity:** Measures how much extra memory an algorithm needs relative to the input size.\n",
        "\n",
        "---\n",
        "\n",
        "### Common Sorting Algorithms in Python\n",
        "\n",
        "#### 1. Bubble Sort\n",
        "\n",
        "* **Concept:** Repeatedly steps through the list, compares adjacent elements, and swaps them if they are in the wrong order. Passes through the list are repeated until no swaps are needed, indicating the list is sorted.\n",
        "* **Analogy:** Bubbles rising to the surface (largest/smallest element \"bubbles up\" to its correct position).\n",
        "* **Time Complexity:**\n",
        "    * Worst Case: $O(n^2)$ (e.g., reverse sorted array)\n",
        "    * Average Case: $O(n^2)$\n",
        "    * Best Case: $O(n)$ (already sorted array, with optimization)\n",
        "* **Space Complexity:** $O(1)$ (in-place)\n",
        "* **Stability:** Stable\n",
        "* **Use Case:** Simple to understand, but very inefficient for large datasets. Primarily for educational purposes."
      ],
      "metadata": {
        "id": "_Cc-chRYKojw"
      }
    },
    {
      "cell_type": "code",
      "source": [
        "print(\"--- Bubble Sort ---\")\n",
        "def bubble_sort(arr):\n",
        "    n = len(arr)\n",
        "    for i in range(n - 1):\n",
        "        swapped = False # Optimization: if no swaps in a pass, array is sorted\n",
        "        for j in range(n - 1 - i): # Last i elements are already in place\n",
        "            if arr[j] > arr[j+1]:\n",
        "                arr[j], arr[j+1] = arr[j+1], arr[j] # Swap elements\n",
        "                swapped = True\n",
        "        if not swapped:\n",
        "            break # No swaps means the array is sorted\n",
        "    return arr\n",
        "\n",
        "my_list_bubble = [64, 34, 25, 12, 22, 11, 90]\n",
        "print(f\"Original list: {my_list_bubble}\")\n",
        "sorted_list_bubble = bubble_sort(my_list_bubble.copy()) # Use .copy() to not modify original\n",
        "print(f\"Sorted list (Bubble Sort): {sorted_list_bubble}\")\n",
        "\n",
        "my_list_bubble_large = [5, 1, 4, 2, 8, 0, 9, 3, 7, 6]\n",
        "print(f\"Original list: {my_list_bubble_large}\")\n",
        "sorted_list_bubble_large = bubble_sort(my_list_bubble_large.copy())\n",
        "print(f\"Sorted list (Bubble Sort): {sorted_list_bubble_large}\")"
      ],
      "outputs": [
        {
          "output_type": "stream",
          "name": "stdout",
          "text": [
            "--- Bubble Sort ---\n",
            "Original list: [64, 34, 25, 12, 22, 11, 90]\n",
            "Sorted list (Bubble Sort): [11, 12, 22, 25, 34, 64, 90]\n",
            "Original list: [5, 1, 4, 2, 8, 0, 9, 3, 7, 6]\n",
            "Sorted list (Bubble Sort): [0, 1, 2, 3, 4, 5, 6, 7, 8, 9]\n"
          ]
        }
      ],
      "execution_count": null,
      "metadata": {
        "id": "oJ1knBNKKoj5",
        "colab": {
          "base_uri": "https://localhost:8080/"
        },
        "outputId": "c00ea149-7d49-47e8-f5ef-9d371738bb6b"
      }
    },
    {
      "cell_type": "markdown",
      "source": [
        "#### 2. Selection Sort\n",
        "\n",
        "* **Concept:** Divides the list into two parts: a sorted part and an unsorted part. It repeatedly finds the minimum element from the unsorted part and puts it at the beginning of the unsorted part (which becomes the end of the sorted part).\n",
        "* **Time Complexity:**\n",
        "    * Worst Case: $O(n^2)$\n",
        "    * Average Case: $O(n^2)$\n",
        "    * Best Case: $O(n^2)$ (always performs $O(n^2)$ comparisons)\n",
        "* **Space Complexity:** $O(1)$ (in-place)\n",
        "* **Stability:** Unstable (relative order of equal elements can change)\n",
        "* **Use Case:** Simple to understand, but generally outperformed by other $O(n^2)$ algorithms. Useful when memory writes are costly, as it minimizes swaps."
      ],
      "metadata": {
        "id": "6MbDU2YwKoj_"
      }
    },
    {
      "cell_type": "code",
      "source": [
        "print(\"\\n--- Selection Sort ---\")\n",
        "def selection_sort(arr):\n",
        "    n = len(arr)\n",
        "    for i in range(n):\n",
        "        min_idx = i\n",
        "        for j in range(i + 1, n):\n",
        "            if arr[j] < arr[min_idx]:\n",
        "                min_idx = j\n",
        "        arr[i], arr[min_idx] = arr[min_idx], arr[i] # Swap the found minimum element with the first element\n",
        "    return arr\n",
        "\n",
        "my_list_selection = [64, 25, 12, 22, 11]\n",
        "print(f\"Original list: {my_list_selection}\")\n",
        "sorted_list_selection = selection_sort(my_list_selection.copy())\n",
        "print(f\"Sorted list (Selection Sort): {sorted_list_selection}\")"
      ],
      "outputs": [
        {
          "output_type": "stream",
          "name": "stdout",
          "text": [
            "\n",
            "--- Selection Sort ---\n",
            "Original list: [64, 25, 12, 22, 11]\n",
            "Sorted list (Selection Sort): [11, 12, 22, 25, 64]\n"
          ]
        }
      ],
      "execution_count": null,
      "metadata": {
        "id": "5ofaQYDTKokC",
        "colab": {
          "base_uri": "https://localhost:8080/"
        },
        "outputId": "1bae9491-63b6-4e6b-c391-e98828893b0a"
      }
    },
    {
      "cell_type": "markdown",
      "source": [
        "#### 3. Insertion Sort\n",
        "\n",
        "* **Concept:** Builds the final sorted array (or list) one item at a time. It iterates through the input elements and builds a sorted output list. Each iteration removes one element from the input data and inserts it into the correct position among the elements already sorted.\n",
        "* **Analogy:** Sorting a hand of playing cards.\n",
        "* **Time Complexity:**\n",
        "    * Worst Case: $O(n^2)$ (e.g., reverse sorted array)\n",
        "    * Average Case: $O(n^2)$\n",
        "    * Best Case: $O(n)$ (already sorted array)\n",
        "* **Space Complexity:** $O(1)$ (in-place)\n",
        "* **Stability:** Stable\n",
        "* **Use Case:** Efficient for small datasets or mostly sorted datasets. Good for online algorithms (where you receive data incrementally)."
      ],
      "metadata": {
        "id": "4g05t_BoKokE"
      }
    },
    {
      "cell_type": "code",
      "source": [
        "print(\"\\n--- Insertion Sort ---\")\n",
        "def insertion_sort(arr):\n",
        "    n = len(arr)\n",
        "    for i in range(1, n): # Start from the second element\n",
        "        key = arr[i]\n",
        "        j = i - 1\n",
        "        # Move elements of arr[0..i-1], that are greater than key,\n",
        "        # to one position ahead of their current position\n",
        "        while j >= 0 and key < arr[j]:\n",
        "            arr[j + 1] = arr[j]\n",
        "            j -= 1\n",
        "        arr[j + 1] = key\n",
        "    return arr\n",
        "\n",
        "my_list_insertion = [12, 11, 13, 5, 6]\n",
        "print(f\"Original list: {my_list_insertion}\")\n",
        "sorted_list_insertion = insertion_sort(my_list_insertion.copy())\n",
        "print(f\"Sorted list (Insertion Sort): {sorted_list_insertion}\")"
      ],
      "outputs": [
        {
          "output_type": "stream",
          "name": "stdout",
          "text": [
            "\n",
            "--- Insertion Sort ---\n",
            "Original list: [12, 11, 13, 5, 6]\n",
            "Sorted list (Insertion Sort): [5, 6, 11, 12, 13]\n"
          ]
        }
      ],
      "execution_count": null,
      "metadata": {
        "id": "xHPQNpBzKokG",
        "colab": {
          "base_uri": "https://localhost:8080/"
        },
        "outputId": "629d38f0-2a66-4f63-fb49-dd4aad679cc1"
      }
    },
    {
      "cell_type": "markdown",
      "source": [
        "#### 4. Merge Sort\n",
        "\n",
        "* **Concept:** A \"divide and conquer\" algorithm. It recursively divides the list into two halves until it reaches individual elements. Then, it merges those sorted halves back together to form a single sorted list.\n",
        "* **Time Complexity:**\n",
        "    * Worst Case: $O(n \\log n)$\n",
        "    * Average Case: $O(n \\log n)$\n",
        "    * Best Case: $O(n \\log n)$\n",
        "* **Space Complexity:** $O(n)$ (requires auxiliary space for merging)\n",
        "* **Stability:** Stable\n",
        "* **Use Case:** Excellent for large datasets. Often used for external sorting (data too large for memory). Python's built-in `sort()` and `sorted()` often use Timsort (a hybrid of Merge Sort and Insertion Sort)."
      ],
      "metadata": {
        "id": "j0bSn-D9KokI"
      }
    },
    {
      "cell_type": "code",
      "source": [
        "print(\"\\n--- Merge Sort ---\")\n",
        "def merge_sort(arr):\n",
        "    if len(arr) <= 1:\n",
        "        return arr\n",
        "\n",
        "    mid = len(arr) // 2\n",
        "    left_half = arr[:mid]\n",
        "    right_half = arr[mid:]\n",
        "\n",
        "    left_half = merge_sort(left_half)\n",
        "    right_half = merge_sort(right_half)\n",
        "\n",
        "    return merge(left_half, right_half)\n",
        "\n",
        "def merge(left, right):\n",
        "    merged_list = []\n",
        "    i = j = 0\n",
        "\n",
        "    while i < len(left) and j < len(right):\n",
        "        if left[i] < right[j]:\n",
        "            merged_list.append(left[i])\n",
        "            i += 1\n",
        "        else:\n",
        "            merged_list.append(right[j])\n",
        "            j += 1\n",
        "\n",
        "    # Append any remaining elements\n",
        "    merged_list.extend(left[i:])\n",
        "    merged_list.extend(right[j:])\n",
        "    return merged_list\n",
        "\n",
        "my_list_merge = [38, 27, 43, 3, 9, 82, 10]\n",
        "print(f\"Original list: {my_list_merge}\")\n",
        "sorted_list_merge = merge_sort(my_list_merge.copy())\n",
        "print(f\"Sorted list (Merge Sort): {sorted_list_merge}\")"
      ],
      "outputs": [
        {
          "output_type": "stream",
          "name": "stdout",
          "text": [
            "\n",
            "--- Merge Sort ---\n",
            "Original list: [38, 27, 43, 3, 9, 82, 10]\n",
            "Sorted list (Merge Sort): [3, 9, 10, 27, 38, 43, 82]\n"
          ]
        }
      ],
      "execution_count": null,
      "metadata": {
        "id": "9pGBiRAvKokJ",
        "colab": {
          "base_uri": "https://localhost:8080/"
        },
        "outputId": "cf13e105-7fa0-4abc-d235-04bea39375c9"
      }
    },
    {
      "cell_type": "markdown",
      "source": [
        "#### 5. Quick Sort\n",
        "\n",
        "* **Concept:** Also a \"divide and conquer\" algorithm. It picks an element as a pivot and partitions the array around the picked pivot. The array is divided into two sub-arrays: elements smaller than the pivot go to the left, and elements greater than the pivot go to the right. This process is applied recursively to the sub-arrays.\n",
        "* **Time Complexity:**\n",
        "    * Worst Case: $O(n^2)$ (e.g., already sorted array with bad pivot choice)\n",
        "    * Average Case: $O(n \\log n)$\n",
        "    * Best Case: $O(n \\log n)$\n",
        "* **Space Complexity:** $O(\\log n)$ (for recursion stack, average case) to $O(n)$ (worst case)\n",
        "* **Stability:** Unstable\n",
        "* **Use Case:** Often the fastest in practice for large, unsorted datasets due to its cache-friendly nature and low constant factor."
      ],
      "metadata": {
        "id": "sTuPqVUrKokM"
      }
    },
    {
      "cell_type": "code",
      "source": [
        "print(\"\\n--- Quick Sort ---\")\n",
        "def quick_sort(arr):\n",
        "    if len(arr) <= 1:\n",
        "        return arr\n",
        "\n",
        "    pivot = arr[len(arr) // 2] # Choose middle element as pivot\n",
        "    left = [x for x in arr if x < pivot]\n",
        "    middle = [x for x in arr if x == pivot]\n",
        "    right = [x for x in arr if x > pivot]\n",
        "\n",
        "    return quick_sort(left) + middle + quick_sort(right)\n",
        "\n",
        "my_list_quick = [10, 7, 8, 9, 1, 5]\n",
        "print(f\"Original list: {my_list_quick}\")\n",
        "sorted_list_quick = quick_sort(my_list_quick.copy())\n",
        "print(f\"Sorted list (Quick Sort): {sorted_list_quick}\")"
      ],
      "outputs": [
        {
          "output_type": "stream",
          "name": "stdout",
          "text": [
            "\n",
            "--- Quick Sort ---\n",
            "Original list: [10, 7, 8, 9, 1, 5]\n",
            "Sorted list (Quick Sort): [1, 5, 7, 8, 9, 10]\n"
          ]
        }
      ],
      "execution_count": null,
      "metadata": {
        "id": "AztIzZVNKokN",
        "colab": {
          "base_uri": "https://localhost:8080/"
        },
        "outputId": "c7903764-9f51-4747-cb1d-5477bc83278a"
      }
    },
    {
      "cell_type": "markdown",
      "source": [
        "---\n",
        "\n",
        "### Python's Built-in Sorting: `sort()` and `sorted()`\n",
        "\n",
        "Python's built-in sorting mechanisms are highly optimized and generally the best choice for most use cases. They implement **Timsort**, a hybrid sorting algorithm derived from Merge Sort and Insertion Sort.\n",
        "\n",
        "* **`list.sort()`**:\n",
        "    * Sorts the list **in-place** (modifies the original list).\n",
        "    * Returns `None`.\n",
        "    * Ideal when you don't need the original list.\n",
        "* **`sorted()`**:\n",
        "    * Returns a **new sorted list** (does not modify the original iterable).\n",
        "    * Can take any iterable (list, tuple, string, etc.).\n",
        "    * Ideal when you need to preserve the original data.\n",
        "\n",
        "Both support `reverse=True` for descending order and a `key` argument for custom sorting."
      ],
      "metadata": {
        "id": "s3SMZRVjKokO"
      }
    },
    {
      "cell_type": "code",
      "source": [
        "print(\"\\n--- Python's Built-in Sorting (`sort()` and `sorted()`) ---\")\n",
        "\n",
        "my_list_builtin = [9, 1, 8, 2, 7, 3, 6, 4, 5]\n",
        "print(f\"Original list: {my_list_builtin}\")\n",
        "\n",
        "# Using list.sort() (in-place)\n",
        "list_for_sort = my_list_builtin.copy()\n",
        "list_for_sort.sort()\n",
        "print(f\"Sorted in-place (list.sort()): {list_for_sort}\")\n",
        "print(f\"Original list after sort: {my_list_builtin} (unchanged if copy used)\")\n",
        "\n",
        "# Using sorted() (returns new list)\n",
        "sorted_new_list = sorted(my_list_builtin)\n",
        "print(f\"New sorted list (sorted()): {sorted_new_list}\")\n",
        "print(f\"Original list after sorted(): {my_list_builtin} (unchanged)\")\n",
        "\n",
        "# Sorting in descending order\n",
        "sorted_desc = sorted(my_list_builtin, reverse=True)\n",
        "print(f\"Sorted descending: {sorted_desc}\")\n",
        "\n",
        "# Sorting with a custom key (e.g., sort by length of strings)\n",
        "words = [\"apple\", \"banana\", \"kiwi\", \"grapefruit\"]\n",
        "sorted_by_length = sorted(words, key=len)\n",
        "print(f\"Words sorted by length: {sorted_by_length}\")\n",
        "\n",
        "# Sorting list of tuples by second element\n",
        "pairs = [(1, 5), (3, 2), (2, 8), (4, 1)]\n",
        "sorted_pairs = sorted(pairs, key=lambda x: x[1])\n",
        "print(f\"Pairs sorted by second element: {sorted_pairs}\")"
      ],
      "outputs": [
        {
          "output_type": "stream",
          "name": "stdout",
          "text": [
            "\n",
            "--- Python's Built-in Sorting (`sort()` and `sorted()`) ---\n",
            "Original list: [9, 1, 8, 2, 7, 3, 6, 4, 5]\n",
            "Sorted in-place (list.sort()): [1, 2, 3, 4, 5, 6, 7, 8, 9]\n",
            "Original list after sort: [9, 1, 8, 2, 7, 3, 6, 4, 5] (unchanged if copy used)\n",
            "New sorted list (sorted()): [1, 2, 3, 4, 5, 6, 7, 8, 9]\n",
            "Original list after sorted(): [9, 1, 8, 2, 7, 3, 6, 4, 5] (unchanged)\n",
            "Sorted descending: [9, 8, 7, 6, 5, 4, 3, 2, 1]\n",
            "Words sorted by length: ['kiwi', 'apple', 'banana', 'grapefruit']\n",
            "Pairs sorted by second element: [(4, 1), (3, 2), (1, 5), (2, 8)]\n"
          ]
        }
      ],
      "execution_count": null,
      "metadata": {
        "id": "D-4UxaaZKokP",
        "colab": {
          "base_uri": "https://localhost:8080/"
        },
        "outputId": "75ba85cc-42f9-4542-f2ab-bec5200e2e4f"
      }
    },
    {
      "cell_type": "markdown",
      "source": [
        "---\n",
        "\n",
        "### Understanding Searching Algorithms: Finding Data\n",
        "\n",
        "**What is Searching?**\n",
        "\n",
        "Searching is the process of finding a specific item (or items) within a collection of data.\n",
        "\n",
        "**Why is Searching Important?**\n",
        "\n",
        "* **Data Retrieval:** The core operation for fetching information from databases, files, or memory.\n",
        "* **Algorithm Efficiency:** The speed of searching directly impacts the performance of many applications.\n",
        "\n",
        "---\n",
        "\n",
        "### Common Searching Algorithms in Python\n",
        "\n",
        "#### 1. Linear Search (Sequential Search)\n",
        "\n",
        "* **Concept:** Checks each element in the list sequentially until a match is found or the end of the list is reached.\n",
        "* **Time Complexity:**\n",
        "    * Worst Case: $O(n)$ (item at the end or not found)\n",
        "    * Average Case: $O(n)$\n",
        "    * Best Case: $O(1)$ (item at the beginning)\n",
        "* **Space Complexity:** $O(1)$\n",
        "* **Use Case:** Simple, works on unsorted or unsorted data. Inefficient for large datasets."
      ],
      "metadata": {
        "id": "5uHAuzzEKokQ"
      }
    },
    {
      "cell_type": "code",
      "source": [
        "print(\"\\n--- Linear Search ---\")\n",
        "def linear_search(arr, target):\n",
        "    for i in range(len(arr)):\n",
        "        if arr[i] == target:\n",
        "            return i # Return the index if found\n",
        "    return -1 # Return -1 if not found\n",
        "\n",
        "my_list_linear = [10, 20, 30, 40, 50]\n",
        "target_found = 30\n",
        "target_not_found = 15\n",
        "\n",
        "print(f\"List: {my_list_linear}\")\n",
        "print(f\"Target {target_found} found at index: {linear_search(my_list_linear, target_found)}\")\n",
        "print(f\"Target {target_not_found} found at index: {linear_search(my_list_linear, target_not_found)}\")"
      ],
      "outputs": [
        {
          "output_type": "stream",
          "name": "stdout",
          "text": [
            "\n",
            "--- Linear Search ---\n",
            "List: [10, 20, 30, 40, 50]\n",
            "Target 30 found at index: 2\n",
            "Target 15 found at index: -1\n"
          ]
        }
      ],
      "execution_count": null,
      "metadata": {
        "id": "GKBg8uNZKokR",
        "colab": {
          "base_uri": "https://localhost:8080/"
        },
        "outputId": "ea434bbb-925a-47a9-aef1-5ce10805581f"
      }
    },
    {
      "cell_type": "markdown",
      "source": [
        "#### 2. Binary Search\n",
        "\n",
        "* **Concept:** A highly efficient searching algorithm that works only on **sorted data**. It repeatedly divides the search interval in half. If the value of the search key is less than the item in the middle of the interval, narrows the interval to the lower half. Otherwise, narrows it to the upper half.\n",
        "* **Prerequisite:** The list must be **sorted**.\n",
        "* **Time Complexity:**\n",
        "    * Worst Case: $O(\\log n)$\n",
        "    * Average Case: $O(\\log n)$\n",
        "    * Best Case: $O(1)$ (target is the middle element)\n",
        "* **Space Complexity:** $O(1)$ (iterative) or $O(\\log n)$ (recursive due to call stack)\n",
        "* **Use Case:** Extremely efficient for searching in large, sorted datasets."
      ],
      "metadata": {
        "id": "PA_tt3fWKokS"
      }
    },
    {
      "cell_type": "code",
      "source": [
        "print(\"\\n--- Binary Search ---\")\n",
        "def binary_search(arr, target):\n",
        "    low = 0\n",
        "    high = len(arr) - 1\n",
        "\n",
        "    while low <= high:\n",
        "        mid = (low + high) // 2\n",
        "        if arr[mid] == target:\n",
        "            return mid # Target found\n",
        "        elif arr[mid] < target:\n",
        "            low = mid + 1 # Target is in the right half\n",
        "        else:\n",
        "            high = mid - 1 # Target is in the left half\n",
        "    return -1 # Target not found\n",
        "\n",
        "sorted_list_binary = [11, 12, 22, 25, 34, 64, 90]\n",
        "target_found_binary = 25\n",
        "target_not_found_binary = 70\n",
        "\n",
        "print(f\"Sorted list: {sorted_list_binary}\")\n",
        "print(f\"Target {target_found_binary} found at index: {binary_search(sorted_list_binary, target_found_binary)}\")\n",
        "print(f\"Target {target_not_found_binary} found at index: {binary_search(sorted_list_binary, target_not_found_binary)}\")"
      ],
      "outputs": [
        {
          "output_type": "stream",
          "name": "stdout",
          "text": [
            "\n",
            "--- Binary Search ---\n",
            "Sorted list: [11, 12, 22, 25, 34, 64, 90]\n",
            "Target 25 found at index: 3\n",
            "Target 70 found at index: -1\n"
          ]
        }
      ],
      "execution_count": null,
      "metadata": {
        "id": "EnewkP2BKokT",
        "colab": {
          "base_uri": "https://localhost:8080/"
        },
        "outputId": "6108917c-9470-4abd-c6d8-77b00036121f"
      }
    },
    {
      "cell_type": "markdown",
      "source": [
        "---\n",
        "\n",
        "### Python's Built-in Searching\n",
        "\n",
        "Python lists have built-in methods for searching.\n",
        "\n",
        "* **`in` operator:** Checks for the presence of an element. Efficient for checking existence. $O(n)$ for lists, $O(1)$ for sets/dictionaries.\n",
        "* **`list.index(element)`:** Returns the index of the first occurrence of the element. Raises `ValueError` if not found. $O(n)$.\n",
        "* **`list.count(element)`:** Returns the number of occurrences of the element. $O(n)$."
      ],
      "metadata": {
        "id": "MiQDmZXBKokT"
      }
    },
    {
      "cell_type": "code",
      "source": [
        "print(\"\\n--- Python's Built-in Searching ---\")\n",
        "\n",
        "my_list_builtin_search = ['apple', 'banana', 'cherry', 'date', 'banana']\n",
        "\n",
        "# Using 'in' operator\n",
        "if 'cherry' in my_list_builtin_search:\n",
        "    print(\"'cherry' is in the list.\")\n",
        "if 'grape' in my_list_builtin_search:\n",
        "    print(\"'grape' is not in the list.\")\n",
        "\n",
        "# Using list.index()\n",
        "try:\n",
        "    print(f\"Index of 'banana': {my_list_builtin_search.index('banana')}\")\n",
        "    print(f\"Index of 'date': {my_list_builtin_search.index('date')}\")\n",
        "    print(f\"Index of 'kiwi': {my_list_builtin_search.index('kiwi')}\") # This would raise ValueError\n",
        "except ValueError as e:\n",
        "    print(f\"Error: {e}\")\n",
        "\n",
        "# Using list.count()\n",
        "print(f\"Count of 'banana': {my_list_builtin_search.count('banana')}\")\n",
        "print(f\"Count of 'apple': {my_list_builtin_search.count('apple')}\")\n",
        "print(f\"Count of 'kiwi': {my_list_builtin_search.count('kiwi')}\")"
      ],
      "outputs": [
        {
          "output_type": "stream",
          "name": "stdout",
          "text": [
            "\n",
            "--- Python's Built-in Searching ---\n",
            "'cherry' is in the list.\n",
            "Index of 'banana': 1\n",
            "Index of 'date': 3\n",
            "Error: 'kiwi' is not in list\n",
            "Count of 'banana': 2\n",
            "Count of 'apple': 1\n",
            "Count of 'kiwi': 0\n"
          ]
        }
      ],
      "execution_count": null,
      "metadata": {
        "id": "q23jVa8TKokU",
        "colab": {
          "base_uri": "https://localhost:8080/"
        },
        "outputId": "0811b67c-a03a-4c1a-c12d-8399cff8c12e"
      }
    },
    {
      "cell_type": "markdown",
      "source": [
        "---\n",
        "\n",
        "### Conclusion\n",
        "\n",
        "Sorting and searching algorithms are fundamental tools in any programmer's toolkit. While Python's built-in `sort()` and `sorted()` are highly optimized for general use cases (Timsort), understanding the underlying principles of algorithms like Bubble, Selection, Insertion, Merge, and Quick Sort is crucial for theoretical knowledge, algorithm analysis, and specific performance requirements. Similarly, for searching, Linear Search is straightforward for unsorted data, but Binary Search offers significant speed advantages for sorted collections.\n",
        "\n",
        "---"
      ],
      "metadata": {
        "id": "JXflsNT4KokV"
      }
    }
  ],
  "metadata": {
    "colab": {
      "provenance": []
    },
    "kernelspec": {
      "display_name": "Python 3",
      "name": "python3"
    }
  },
  "nbformat": 4,
  "nbformat_minor": 0
}